{
  "cells": [
    {
      "cell_type": "markdown",
      "source": [
        "# Project Overview\n",
        "\n",
        "**1. Project Objective:**  \n",
        "The aim of the project was to examine readability measures and sentiment values ​​for texts generated using first-degree Markov chains.\n",
        "\n",
        "**2. Project Steps:**\n",
        "- The initial steps (1-3) are preparatory. The texts are downloaded from the listed URLs and then combined into a whole. A **200-word excerpt** is selected, which serves as a **starting point** for further analysis.\n",
        "- **Step 4:** Functions for **sentiment and readability analysis** are created.\n",
        "- In the next step, the sentiment of **each word** in the text is analyzed, and results are stored in a **data frame**.\n",
        "- A function is then created to **generate text using Markov chains**.\n",
        "- **Step 7:** Two texts are generated using Markov chains - one positive and one negative.\n",
        "- Finally, **sentiment analysis is performed**, and **charts & descriptions of calculated measures** are generated for further analysis.\n"
      ],
      "metadata": {
        "id": "l1ojg1w5jbnM"
      }
    },
    {
      "cell_type": "code",
      "execution_count": 1,
      "metadata": {
        "application/vnd.databricks.v1+cell": {
          "cellMetadata": {
            "byteLimit": 2048000,
            "rowLimit": 10000
          },
          "collapsed": true,
          "inputWidgets": {},
          "nuid": "4c46c9bc-63d5-4c31-9efa-3719ebd3ccdf",
          "showTitle": false,
          "tableResultSettingsMap": {},
          "title": ""
        },
        "colab": {
          "base_uri": "https://localhost:8080/"
        },
        "id": "TCNzaQLVMCXJ",
        "outputId": "7824464b-6559-4b35-9a0c-c0afa2e5562e"
      },
      "outputs": [
        {
          "output_type": "stream",
          "name": "stdout",
          "text": [
            "Requirement already satisfied: textstat in /usr/local/lib/python3.11/dist-packages (0.7.4)\n",
            "Requirement already satisfied: textblob in /usr/local/lib/python3.11/dist-packages (0.17.1)\n",
            "Requirement already satisfied: pyphen in /usr/local/lib/python3.11/dist-packages (from textstat) (0.17.2)\n",
            "Requirement already satisfied: setuptools in /usr/local/lib/python3.11/dist-packages (from textstat) (75.1.0)\n",
            "Requirement already satisfied: nltk>=3.1 in /usr/local/lib/python3.11/dist-packages (from textblob) (3.9.1)\n",
            "Requirement already satisfied: click in /usr/local/lib/python3.11/dist-packages (from nltk>=3.1->textblob) (8.1.8)\n",
            "Requirement already satisfied: joblib in /usr/local/lib/python3.11/dist-packages (from nltk>=3.1->textblob) (1.4.2)\n",
            "Requirement already satisfied: regex>=2021.8.3 in /usr/local/lib/python3.11/dist-packages (from nltk>=3.1->textblob) (2024.11.6)\n",
            "Requirement already satisfied: tqdm in /usr/local/lib/python3.11/dist-packages (from nltk>=3.1->textblob) (4.67.1)\n"
          ]
        }
      ],
      "source": [
        "#Installation of necessary packages\n",
        "%pip install textstat textblob"
      ]
    },
    {
      "cell_type": "code",
      "execution_count": 2,
      "metadata": {
        "application/vnd.databricks.v1+cell": {
          "cellMetadata": {
            "byteLimit": 2048000,
            "rowLimit": 10000
          },
          "inputWidgets": {},
          "nuid": "20d1a12a-abdf-42c1-ac7c-77cb3c76a28c",
          "showTitle": false,
          "tableResultSettingsMap": {},
          "title": ""
        },
        "id": "I9cQjXI2MKj1"
      },
      "outputs": [],
      "source": [
        "from pyspark.sql import SparkSession\n",
        "from pyspark.sql.functions import col, when\n",
        "import random\n",
        "from textblob import TextBlob\n",
        "import numpy as np\n",
        "import matplotlib.pyplot as plt\n",
        "import requests\n",
        "import textstat\n",
        "\n",
        "#Step 1: Initialize Spark session\n",
        "spark = SparkSession.builder.appName(\"TextAnalysisAndGeneration\").getOrCreate()\n",
        "\n",
        "#Step 2: Download texts and combine them into one text\n",
        "urls = [\n",
        "    \"https://www.gutenberg.org/files/2701/old/moby10b.txt\",  # Moby-Dick by Herman Melville\n",
        "    \"https://www.gutenberg.org/cache/epub/98/pg98.txt\",  # A Tale of Two Cities by Charles Dickens\n",
        "    \"https://web.stanford.edu/class/cs110/examples/cpp-primer/anna-karenina.txt\",  # Anna Karenina by Leo Tolstoy\n",
        "    \"https://www.gutenberg.org/files/1342/1342-0.txt\",  # Pride and Prejudice by Jane Austen\n",
        "    \"https://gutenberg.net.au/ebooks02/0200041.txt\",  # The Picture of Dorian Gray by Oscar Wilde\n",
        "    \"https://www.gutenberg.org/files/2554/2554-0.txt\",  # Crime and Punishment by Fyodor Dostoyevsky\n",
        "    \"https://www.gutenberg.org/files/1661/1661-0.txt\",  # The Adventures of Sherlock Holmes by Arthur Conan Doyle\n",
        "    \"https://www.gutenberg.org/files/120/120-0.txt\",  # Treasure Island by Robert Louis Stevenson\n",
        "    \"https://www.gutenberg.org/files/768/768-0.txt\",  # Wuthering Heights by Emily Brontë\n",
        "    \"https://www.gutenberg.org/files/1400/1400-0.txt\",  # Great Expectations by Charles Dickens\n",
        "    \"https://www.gutenberg.org/files/25344/25344-0.txt\",  # The Scarlet Letter by Nathaniel Hawthorne\n",
        "]\n",
        "\n",
        "\n",
        "def load_text_from_urls(url_list):\n",
        "    texts = []\n",
        "    for url in url_list:\n",
        "        response = requests.get(url)\n",
        "        if response.status_code == 200:\n",
        "            texts.append(response.text)\n",
        "        else:\n",
        "            print(f\"Failed to retrieve text from {url}\")\n",
        "    combined_text = \"\\n\".join(texts)\n",
        "    return combined_text.split(\". \")\n",
        "\n",
        "original_sentences = load_text_from_urls(urls)\n",
        "\n",
        "# Step 3: Select a sample of the original text (~200 words)\n",
        "def get_text_sample(sentences, word_limit=200):\n",
        "    middle_index = len(sentences) // 10\n",
        "    text_sample = []\n",
        "    word_count = 0\n",
        "\n",
        "    for sentence in sentences[middle_index:]:\n",
        "        words = sentence.split()\n",
        "        word_count += len(words)\n",
        "        text_sample.append(sentence)\n",
        "        if word_count >= word_limit:\n",
        "            break\n",
        "\n",
        "    return \" \".join(text_sample)\n",
        "\n",
        "original_fragment = get_text_sample(original_sentences)\n",
        "\n",
        "# Step 4: Helper functions for text analysis\n",
        "def analyze_text_sentiment(text):\n",
        "    \"\"\"Sentiment analysis for the full text.\"\"\"\n",
        "    return TextBlob(text).sentiment.polarity\n",
        "\n",
        "def compute_readability(text):\n",
        "    \"\"\"Calculate text readability indices.\"\"\"\n",
        "    return {\n",
        "        \"Flesch Reading Ease\": textstat.flesch_reading_ease(text),\n",
        "        \"Flesch-Kincaid Grade Level\": textstat.flesch_kincaid_grade(text),\n",
        "        \"Automated Readability Index\": textstat.automated_readability_index(text),\n",
        "        \"SMOG Index\": textstat.smog_index(text)\n",
        "    }\n",
        "\n",
        "# Step 5: Word sentiment analysis\n",
        "words_rdd = spark.sparkContext.parallelize(list(set(\" \".join(original_sentences).split())))\n",
        "\n",
        "def analyze_word_sentiment(word):\n",
        "    \"\"\"Sentiment analysis of a single word.\"\"\"\n",
        "    return (word, TextBlob(word).sentiment.polarity)\n",
        "\n",
        "sentiment_rdd = words_rdd.map(analyze_word_sentiment)\n",
        "sentiment_data = sentiment_rdd.collect()\n",
        "\n",
        "sentiment_df = spark.createDataFrame(sentiment_data, [\"word\", \"sentiment\"])\n",
        "sentiment_df = sentiment_df.withColumn(\n",
        "    \"sentiment_class\",\n",
        "    when(col(\"sentiment\") > 0, \"positive\")\n",
        "    .when(col(\"sentiment\") < 0, \"negative\")\n",
        "    .otherwise(\"neutral\")\n",
        ")\n",
        "\n",
        "original_sentiment = analyze_text_sentiment(original_fragment)\n",
        "original_readability = compute_readability(original_fragment)\n",
        "\n",
        "# Step 6: Train Markov Model\n",
        "class MarkovChain:\n",
        "    def __init__(self):\n",
        "        self.model = {}\n",
        "\n",
        "    def train(self, sentences):\n",
        "        \"\"\"Train the Markov model using the provided sentences.\"\"\"\n",
        "        for sentence in sentences:\n",
        "            words = sentence.split()\n",
        "            for i in range(len(words) - 1):\n",
        "                if words[i] not in self.model:\n",
        "                    self.model[words[i]] = []\n",
        "                self.model[words[i]].append(words[i + 1])\n",
        "\n",
        "    def generate(self, first_word=None, length=200):\n",
        "        \"\"\"Generate text using the Markov model.\"\"\"\n",
        "        if not first_word or first_word not in self.model:\n",
        "            first_word = random.choice(list(self.model.keys()))\n",
        "        result = [first_word]\n",
        "        for _ in range(length - 1):\n",
        "            if result[-1] not in self.model or not self.model[result[-1]]:\n",
        "                break\n",
        "            next_word = random.choice(self.model[result[-1]])\n",
        "            result.append(next_word)\n",
        "        return \" \".join(result)\n",
        "\n",
        "sentences_rdd = spark.sparkContext.parallelize(original_sentences)\n",
        "\n",
        "def train_partition(partition):\n",
        "    local_chain = MarkovChain()\n",
        "    local_chain.train(partition)\n",
        "    return [local_chain.model]\n",
        "\n",
        "models_rdd = sentences_rdd.mapPartitions(train_partition)\n",
        "distributed_model = models_rdd.reduce(lambda a, b: {**a, **b})\n",
        "\n",
        "markov_chain = MarkovChain()\n",
        "markov_chain.model = distributed_model\n",
        "\n",
        "# Step 7: Generating text for each sentiment class\n",
        "def generate_large_text(sentiment_class, length=1500, min_length=600, max_attempts=100):\n",
        "\n",
        "    if sentiment_class == \"positive\":\n",
        "        seed_words = sentiment_df.filter(col(\"sentiment_class\") == \"positive\").select(\"word\").rdd.flatMap(lambda x: x).collect()\n",
        "    else:\n",
        "        seed_words = sentiment_df.filter(col(\"sentiment_class\") == \"negative\").select(\"word\").rdd.flatMap(lambda x: x).collect()\n",
        "\n",
        "    attempts = 0\n",
        "    while attempts < max_attempts:\n",
        "        seed_word = random.choice(seed_words) if seed_words else None\n",
        "        generated_text = markov_chain.generate(first_word=seed_word, length=length)\n",
        "\n",
        "        if len(generated_text.split()) >= min_length:\n",
        "            return generated_text\n",
        "\n",
        "        attempts += 1\n",
        "\n",
        "    return generated_text\n",
        "\n",
        "large_positive_text = generate_large_text(\"positive\")\n",
        "large_negative_text = generate_large_text(\"negative\")\n",
        "\n",
        "\n"
      ]
    },
    {
      "cell_type": "code",
      "execution_count": 4,
      "metadata": {
        "application/vnd.databricks.v1+cell": {
          "cellMetadata": {
            "byteLimit": 2048000,
            "rowLimit": 10000
          },
          "inputWidgets": {},
          "nuid": "55f5a63a-5731-4ca0-910e-91d481964943",
          "showTitle": false,
          "tableResultSettingsMap": {},
          "title": ""
        },
        "colab": {
          "base_uri": "https://localhost:8080/"
        },
        "id": "QxYsYXuomWG0",
        "outputId": "1cbabf17-06ee-4bf9-c7bb-b42e9819f73b"
      },
      "outputs": [
        {
          "output_type": "stream",
          "name": "stdout",
          "text": [
            "================================================================================\n",
            "\n",
            "📌 Sample of Positive Text:\n",
            "calm--“can’t you are usually committed to remain another minute before\n",
            "his head, and by one has no shadow of coming along its folly, far from\n",
            "the midst of positive I didn’t believe my master of sand which I see\n",
            "him snap off hanging to be the tavern, a child!” said Holmes nodded\n",
            "again, until sleep that case, and astonishment, “how much?” “Thirty\n",
            "copecks,” the trees and I am! Had I must raise the settle, and nearer\n",
            "to Halifax, when he sealed orders are brought me, there is not\n",
            "tortured by very beginning, “I used to all eyes made a lad should\n",
            "recover it all! All this young man who had come to take place there,\n",
            "just taking their state of the figure was succeeded in to live\n",
            "horseshoe by no one another year ago from the grass which Providence\n",
            "had never meant to know.” “You are five and convincing sound became a\n",
            "eel!” At the petted will. On every thought of our humble sheds on fire\n",
            "spinning through the way to me (as we reached a log of my existence,\n",
            "and took up a century she lifted up with an attempt to the entrance\n",
            "Porfiry Petrovitch, but important thing, and then gave a haven of\n",
            "thirty seconds she is a virtuous days—an object in the thunder-storm;\n",
            "and, aided and favour of home-feeling with your hand; “play, play,\n",
            "perhaps they did you seen fit if we had presented by the master; “she\n",
            "had a fiddle, and I was dark and be sure.” “And I must come one after\n",
            "to-morrow or... Besides she made years ago; all up to feel convinced\n",
            "of disgrace,” he is all discouragement that there too, as you b\n",
            "================================================================================\n",
            "\n",
            "📌 Sample of Negative Text:\n",
            "silly! “A little wit in the one spot, to his credit that hideous\n",
            "luxuriance? Or speak to my Sonia pulled down and be released his\n",
            "mother’s enthusiasm kindled under a little god’s arrows, has been\n",
            "prepared to your outcries!” “I imagine how to read distinctly\n",
            "professional.” “And surely must not agreeable voice, cracked in the\n",
            "daughter told me up with him, face somewhere,” he always in evening in\n",
            "her shoulders, bent to get her statement she asked, addressing Cathy\n",
            "ask what we went in your village idiot, before me with all the foot of\n",
            "her now, after her until he snapped his death and puzzled what I had\n",
            "come to it, even to leap from his heart.” “I’m nearly four loaded\n",
            "pistols and fork-tongued; and for certain I think himself to squander\n",
            "money and the case that old dry cold night, though reaching my man,”\n",
            "said he. The horses are you?” “Oh, indeed! Now and breathed, match\n",
            "these, whose powdered wig there’s a quart of the wine, all haste to\n",
            "earn, if I was soon to the right out when she interrupted, “you have\n",
            "to write and desolate by the cemetery, he got them seemed most of\n",
            "lamps, are understood his grief that if you come to!” “I am sure I had\n",
            "the long line of all you are!” We ate together for you. _That’s_ the\n",
            "sentiment, waiving its dungeon of his knee. But instead of them\n",
            "glories to go to--well, yes, papa,” observed that might once at the\n",
            "horse’s head, and stood over Catherine took the latter course she took\n",
            "the page. “Well, Pip,” he declared the poor girl to discuss what she\n",
            "might h\n",
            "================================================================================\n",
            "\n",
            "📌 Sample of the Original Text:\n",
            "Business, business!”\r\n",
            "\r\n",
            "They went up slowly and softly The staircase was short, and they were\r\n",
            "soon at the top There, as it had an abrupt turn in it, they came all at\r\n",
            "once in sight of three men, whose heads were bent down close together at\r\n",
            "the side of a door, and who were intently looking into the room to which\r\n",
            "the door belonged, through some chinks or holes in the wall On hearing\r\n",
            "footsteps close at hand, these three turned, and rose, and showed\r\n",
            "themselves to be the three of one name who had been drinking in the\r\n",
            "wine-shop.\r\n",
            "\r\n",
            "“I forgot them in the surprise of your visit,” explained Monsieur\r\n",
            "Defarge “Leave us, good boys; we have business here.”\r\n",
            "\r\n",
            "The three glided by, and went silently down.\r\n",
            "\r\n",
            "There appearing to be no other door on that floor, and the keeper of\r\n",
            "the wine-shop going straight to this one when they were left alone, Mr.\r\n",
            "Lorry asked him in a whisper, with a little anger:\r\n",
            "\r\n",
            "“Do you make a show of Monsieur Manette?”\r\n",
            "\r\n",
            "“I show him, in the way you have seen, to a chosen few.”\r\n",
            "\r\n",
            "“Is that well?”\r\n",
            "\r\n",
            "“_I_ think it is well.”\r\n",
            "\r\n",
            "“Who are the few? How do you choose them?”\r\n",
            "\r\n",
            "“I choose them as real men, of my name--Jacques is my name--to whom the\r\n",
            "sight is likely to do good\n",
            "================================================================================\n"
          ]
        }
      ],
      "source": [
        "# Samples of generated texts and original text sample\n",
        "\n",
        "# Max 70 characters per line\n",
        "def format_text(text, max_length=70):\n",
        "    words = text.split()\n",
        "    lines = []\n",
        "    current_line = \"\"\n",
        "\n",
        "    for word in words:\n",
        "        if len(current_line) + len(word) + 1 > max_length:\n",
        "            lines.append(current_line)\n",
        "            current_line = word\n",
        "        else:\n",
        "            current_line += \" \" + word if current_line else word\n",
        "\n",
        "    if current_line:\n",
        "        lines.append(current_line)\n",
        "\n",
        "    return \"\\n\".join(lines)\n",
        "\n",
        "# Displaying the generated texts and original text sample\n",
        "print(\"=\" * 80)\n",
        "print(\"\\n📌 Sample of Positive Text:\")\n",
        "print(format_text(large_positive_text[:1500]))\n",
        "print(\"=\" * 80)\n",
        "\n",
        "print(\"\\n📌 Sample of Negative Text:\")\n",
        "print(format_text(large_negative_text[:1500]))\n",
        "print(\"=\" * 80)\n",
        "\n",
        "print(\"\\n📌 Sample of the Original Text:\")\n",
        "print(original_fragment)\n",
        "print(\"=\" * 80)\n",
        "\n"
      ]
    },
    {
      "cell_type": "code",
      "execution_count": 5,
      "metadata": {
        "application/vnd.databricks.v1+cell": {
          "cellMetadata": {
            "byteLimit": 2048000,
            "rowLimit": 10000
          },
          "inputWidgets": {},
          "nuid": "6a5eb6f3-5981-427f-accd-9830e7923dc3",
          "showTitle": false,
          "tableResultSettingsMap": {},
          "title": ""
        },
        "colab": {
          "base_uri": "https://localhost:8080/",
          "height": 591
        },
        "id": "yoG9-5UkmWG0",
        "outputId": "5aa91ea8-1647-45e4-f058-d76e73567b3b"
      },
      "outputs": [
        {
          "output_type": "display_data",
          "data": {
            "text/plain": [
              "<Figure size 1200x600 with 1 Axes>"
            ],
            "image/png": "[encoded data removed]"
          },
          "metadata": {}
        }
      ],
      "source": [
        "# Step 8: Sentiment Analysis on RDD\n",
        "generated_rdd = spark.sparkContext.parallelize([large_positive_text, large_negative_text])\n",
        "sentiment_results = generated_rdd.map(analyze_text_sentiment).collect()\n",
        "\n",
        "positive_sentiment = sentiment_results[0]\n",
        "negative_sentiment = sentiment_results[1]\n",
        "\n",
        "# Step 9: Generating Sentiment Comparison Plot\n",
        "plt.figure(figsize=(12, 6))\n",
        "plt.bar(\n",
        "    [\"Original Text\", \"Positive Text\", \"Negative Text\"],\n",
        "    [original_sentiment, positive_sentiment, negative_sentiment],\n",
        "    color=[\"blue\", \"green\", \"red\"]\n",
        ")\n",
        "plt.ylabel(\"Sentiment Polarity\")\n",
        "plt.title(\"Sentiment Comparison\")\n",
        "plt.tight_layout()\n",
        "plt.show()\n",
        "\n"
      ]
    },
    {
      "cell_type": "code",
      "execution_count": 6,
      "metadata": {
        "application/vnd.databricks.v1+cell": {
          "cellMetadata": {
            "byteLimit": 2048000,
            "rowLimit": 10000
          },
          "inputWidgets": {},
          "nuid": "202e248f-2724-4f7a-9778-51efbe4da600",
          "showTitle": false,
          "tableResultSettingsMap": {},
          "title": ""
        },
        "colab": {
          "base_uri": "https://localhost:8080/"
        },
        "id": "v3cOFa0emWG1",
        "outputId": "96e08e22-3a84-4d51-b27f-d7bf80f1b5d0"
      },
      "outputs": [
        {
          "output_type": "stream",
          "name": "stdout",
          "text": [
            "========================================\n",
            "📈 Average Sentiment of Texts:\n",
            "📌 Original Text: 0.055\n",
            "✅ Sentiment of Positive Text: 0.071\n",
            "❌ Sentiment of Negative Text: -0.010\n",
            "========================================\n"
          ]
        }
      ],
      "source": [
        "# Displaying sentiment results\n",
        "print(\"=\" * 40)\n",
        "print(f\"📈 Average Sentiment of Texts:\")\n",
        "print(f\"📌 Original Text: {original_sentiment:.3f}\")\n",
        "print(f\"✅ Sentiment of Positive Text: {positive_sentiment:.3f}\")\n",
        "print(f\"❌ Sentiment of Negative Text: {negative_sentiment:.3f}\")\n",
        "print(\"=\" * 40)"
      ]
    },
    {
      "cell_type": "markdown",
      "source": [
        "The results indicate that the original text has a slightly positive sentiment with a value of 0.055. The generated positive text successfully reflects a stronger positive sentiment at 0.071, showing that the Markov chain model effectively preserves sentiment tendencies when seeded with positive words. Meanwhile, the negative text, although intended to be more negative, only reached a sentiment score of -0.010, suggesting that the model struggles to generate strongly negative content. This could be due to the distribution of sentiment in the training data or the limitations of single-degree Markov chains in maintaining long-term sentiment coherence."
      ],
      "metadata": {
        "id": "SybOCwwSwHFF"
      }
    },
    {
      "cell_type": "code",
      "execution_count": 7,
      "metadata": {
        "application/vnd.databricks.v1+cell": {
          "cellMetadata": {
            "byteLimit": 2048000,
            "rowLimit": 10000
          },
          "inputWidgets": {},
          "nuid": "0a89fd0f-fafa-49a9-8ac4-deddf7f8d377",
          "showTitle": false,
          "tableResultSettingsMap": {},
          "title": ""
        },
        "colab": {
          "base_uri": "https://localhost:8080/",
          "height": 591
        },
        "id": "pb_2MfWKmWG1",
        "outputId": "b0c39a28-75a2-4457-903d-efd5fbb6f441"
      },
      "outputs": [
        {
          "output_type": "display_data",
          "data": {
            "text/plain": [
              "<Figure size 1200x600 with 1 Axes>"
            ],
            "image/png": "[encoded data removed]"
          },
          "metadata": {}
        }
      ],
      "source": [
        "# Calculating readability scores for the generated large texts\n",
        "positive_avg_readability = compute_readability(large_positive_text)\n",
        "negative_avg_readability = compute_readability(large_negative_text)\n",
        "\n",
        "# Creating lists for the readability comparison plot\n",
        "labels = list(original_readability.keys())\n",
        "original_values = list(original_readability.values())\n",
        "positive_avg_values = list(positive_avg_readability.values())\n",
        "negative_avg_values = list(negative_avg_readability.values())\n",
        "\n",
        "# Readability comparison chart\n",
        "plt.figure(figsize=(12, 6))\n",
        "x = np.arange(len(labels))\n",
        "width = 0.25\n",
        "\n",
        "plt.bar(x - width, original_values, width, label=\"Original Text\", color=\"blue\")\n",
        "plt.bar(x, positive_avg_values, width, label=\"Positive Text\", color=\"orange\")\n",
        "plt.bar(x + width, negative_avg_values, width, label=\"Negative Text\", color=\"green\")\n",
        "\n",
        "plt.ylabel(\"Readability Scores\")\n",
        "plt.title(\"Readability Comparison: Original vs Positive vs Negative\")\n",
        "plt.xticks(x, labels, rotation=45)\n",
        "plt.legend()\n",
        "plt.tight_layout()\n",
        "plt.show()\n",
        "\n"
      ]
    },
    {
      "cell_type": "code",
      "execution_count": 8,
      "metadata": {
        "application/vnd.databricks.v1+cell": {
          "cellMetadata": {
            "byteLimit": 2048000,
            "rowLimit": 10000
          },
          "inputWidgets": {},
          "nuid": "f4d9b827-df43-49bb-9508-7591005eacd3",
          "showTitle": false,
          "tableResultSettingsMap": {},
          "title": ""
        },
        "colab": {
          "base_uri": "https://localhost:8080/"
        },
        "id": "Sxz81AcnmWG2",
        "outputId": "31216d39-6163-4d35-f132-01e904d5d1cd"
      },
      "outputs": [
        {
          "output_type": "stream",
          "name": "stdout",
          "text": [
            "\n",
            "📊 Average Readability Statistics for Generated Texts:\n",
            "=======================================================\n",
            "\n",
            "📖 Readability of the Positive Text:\n",
            "   Flesch Reading Ease: 61.29\n",
            "   Flesch-Kincaid Grade Level: 11.30\n",
            "   Automated Readability Index: 13.10\n",
            "   SMOG Index: 11.70\n",
            "\n",
            "📖 Readability of the Negative Text:\n",
            "   Flesch Reading Ease: 73.81\n",
            "   Flesch-Kincaid Grade Level: 8.60\n",
            "   Automated Readability Index: 11.10\n",
            "   SMOG Index: 9.20\n",
            "\n",
            "📖 Readability of the Original Text Sample:\n",
            "   Flesch Reading Ease: 84.71\n",
            "   Flesch-Kincaid Grade Level: 6.50\n",
            "   Automated Readability Index: 8.60\n",
            "   SMOG Index: 6.10\n"
          ]
        }
      ],
      "source": [
        "# Displaying readability statistics\n",
        "print(\"\\n📊 Average Readability Statistics for Generated Texts:\")\n",
        "print(\"=\" * 55)\n",
        "\n",
        "print(\"\\n📖 Readability of the Positive Text:\")\n",
        "for key, value in positive_avg_readability.items():\n",
        "    print(f\"   {key}: {value:.2f}\")\n",
        "\n",
        "print(\"\\n📖 Readability of the Negative Text:\")\n",
        "for key, value in negative_avg_readability.items():\n",
        "    print(f\"   {key}: {value:.2f}\")\n",
        "\n",
        "print(\"\\n📖 Readability of the Original Text Sample:\")\n",
        "for key, value in original_readability.items():\n",
        "    print(f\"   {key}: {value:.2f}\")\n",
        "\n"
      ]
    },
    {
      "cell_type": "markdown",
      "source": [
        "The readability analysis shows that the original text is the easiest to read, with the highest Flesch Reading Ease score (84.71) and the lowest grade-level metrics. The negative text is more complex but still accessible, with a Flesch score of 73.81. The positive text, however, is the most difficult to read, with a Flesch score of 61.29 and higher grade-level values."
      ],
      "metadata": {
        "id": "6oUS34izw9BX"
      }
    }
  ],
  "metadata": {
    "application/vnd.databricks.v1+notebook": {
      "computePreferences": null,
      "dashboards": [],
      "environmentMetadata": null,
      "language": "python",
      "notebookMetadata": {
        "pythonIndentUnit": 4
      },
      "notebookName": "BigData",
      "widgets": {}
    },
    "colab": {
      "provenance": []
    },
    "kernelspec": {
      "display_name": "Python 3",
      "name": "python3"
    },
    "language_info": {
      "name": "python"
    }
  },
  "nbformat": 4,
  "nbformat_minor": 0
}